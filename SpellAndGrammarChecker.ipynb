{
  "nbformat": 4,
  "nbformat_minor": 0,
  "metadata": {
    "colab": {
      "provenance": []
    },
    "kernelspec": {
      "name": "python3",
      "display_name": "Python 3"
    },
    "language_info": {
      "name": "python"
    }
  },
  "cells": [
    {
      "cell_type": "markdown",
      "source": [
        "# **• Statistical Models(N games):**"
      ],
      "metadata": {
        "id": "ZZVCh-y0fZrN"
      }
    },
    {
      "cell_type": "code",
      "execution_count": 9,
      "metadata": {
        "colab": {
          "base_uri": "https://localhost:8080/"
        },
        "id": "de54Pi6hLGIy",
        "outputId": "091515a3-65c9-444b-ad1e-6bbd89acbe8d"
      },
      "outputs": [
        {
          "output_type": "stream",
          "name": "stdout",
          "text": [
            "Drive already mounted at /content/drive; to attempt to forcibly remount, call drive.mount(\"/content/drive\", force_remount=True).\n",
            "   Category   Sentence\n",
            "0         0     මම යති\n",
            "1         0   මම යත්වා\n",
            "2         0    මම යනවා\n",
            "3         0  මම යනවාලා\n",
            "4         0     මම යනු\n",
            "Index(['Category', 'Sentence'], dtype='object')\n"
          ]
        }
      ],
      "source": [
        "import re\n",
        "import pandas as pd\n",
        "from collections import defaultdict, Counter\n",
        "import random\n",
        "\n",
        "# Mount Google Drive\n",
        "from google.colab import drive\n",
        "drive.mount('/content/drive')\n",
        "\n",
        "# Path to the dataset on Google Drive\n",
        "dataset_path = '/content/drive/My Drive/Colab Notebooks/combined_sentences_dataset.csv'\n",
        "\n",
        "# Load the dataset\n",
        "data = pd.read_csv(dataset_path, header=None, names=[\"Category\", \"Sentence\"])\n",
        "\n",
        "# Inspect the first few rows and column names\n",
        "print(data.head())\n",
        "print(data.columns)\n",
        "\n"
      ]
    },
    {
      "cell_type": "code",
      "source": [
        "# Filter and process data\n",
        "train_data = data[data['Category'] == 1]['Sentence'].tolist()  # Correct sentences as training\n",
        "test_data = data['Sentence'].tolist()  # All sentences for testing"
      ],
      "metadata": {
        "id": "vXltXR3SsNMz"
      },
      "execution_count": 10,
      "outputs": []
    },
    {
      "cell_type": "code",
      "source": [
        "# Generate n-grams\n",
        "def generate_ngrams(text, n=2):\n",
        "    words = text.split()\n",
        "    return [tuple(words[i:i + n]) for i in range(len(words) - n + 1)]\n",
        "\n",
        "# Train n-gram model\n",
        "def train_ngram_model(sentences, n=2):\n",
        "    model = defaultdict(Counter)\n",
        "    for sentence in sentences:\n",
        "        ngrams = generate_ngrams(sentence, n)\n",
        "        for w1, w2 in ngrams:\n",
        "            model[w1][w2] += 1\n",
        "    return model\n",
        "\n",
        "# Predict next word\n",
        "def predict_next_word(model, word):\n",
        "    if word in model:\n",
        "        return random.choices(list(model[word].keys()), weights=model[word].values())[0]\n",
        "    return None\n",
        "\n",
        "# Evaluate accuracy\n",
        "def evaluate_model(model, test_sentences):\n",
        "    correct, total = 0, 0\n",
        "    for sentence in test_sentences:\n",
        "        words = sentence.split()\n",
        "        for i in range(len(words) - 1):\n",
        "            if predict_next_word(model, words[i]) == words[i + 1]:\n",
        "                correct += 1\n",
        "            total += 1\n",
        "    return correct / total\n",
        "\n",
        "# Train the bigram model\n",
        "bigram_model = train_ngram_model(train_data, n=2)\n",
        "\n",
        "# Evaluate the model\n",
        "accuracy = evaluate_model(bigram_model, test_data)\n",
        "print(f\"Bigram Model Accuracy: {accuracy * 100:.2f}%\")"
      ],
      "metadata": {
        "colab": {
          "base_uri": "https://localhost:8080/"
        },
        "id": "6uaKrv5Br4Xh",
        "outputId": "190d1fb1-fba1-46dc-b433-41d25b2178d6"
      },
      "execution_count": 11,
      "outputs": [
        {
          "output_type": "stream",
          "name": "stdout",
          "text": [
            "Bigram Model Accuracy: 40.87%\n"
          ]
        }
      ]
    },
    {
      "cell_type": "code",
      "source": [
        "import re\n",
        "import pandas as pd\n",
        "from collections import defaultdict, Counter\n",
        "import random\n",
        "\n",
        "# Mount Google Drive\n",
        "from google.colab import drive\n",
        "drive.mount('/content/drive')\n",
        "\n",
        "# Path to the dataset on Google Drive\n",
        "dataset_path = '/content/drive/My Drive/Colab Notebooks/combined_sentences_dataset.csv'\n",
        "\n",
        "# Load the dataset\n",
        "data = pd.read_csv(dataset_path, header=None, names=[\"Category\", \"Sentence\"])\n",
        "\n",
        "# Filter and process data\n",
        "train_data = data[data['Category'] == 1]['Sentence'].tolist()  # Correct sentences as training\n",
        "test_data = data['Sentence'].tolist()  # All sentences for testing\n",
        "\n",
        "# Generate n-grams\n",
        "def generate_ngrams(text, n=2):\n",
        "    words = text.split()\n",
        "    return [tuple(words[i:i + n]) for i in range(len(words) - n + 1)]\n",
        "\n",
        "# Train n-gram model\n",
        "def train_ngram_model(sentences, n=2):\n",
        "    model = defaultdict(Counter)\n",
        "    for sentence in sentences:\n",
        "        ngrams = generate_ngrams(sentence, n)\n",
        "        for w1, w2 in ngrams:\n",
        "            model[w1][w2] += 1\n",
        "    return model\n",
        "\n",
        "# Predict next word\n",
        "def predict_next_word(model, word):\n",
        "    if word in model:\n",
        "        return random.choices(list(model[word].keys()), weights=model[word].values())[0]\n",
        "    return None\n",
        "\n",
        "# Evaluate accuracy for spell correction and grammar suggestions\n",
        "def evaluate_model(model, test_sentences):\n",
        "    correct_spell, correct_grammar, total_spell, total_grammar = 0, 0, 0, 0\n",
        "\n",
        "    for sentence in test_sentences:\n",
        "        words = sentence.split()\n",
        "        for i in range(len(words) - 1):\n",
        "            predicted = predict_next_word(model, words[i])\n",
        "\n",
        "            # Grammar suggestion accuracy\n",
        "            if predicted == words[i + 1]:\n",
        "                correct_grammar += 1\n",
        "            total_grammar += 1\n",
        "\n",
        "            # For spell correction, check similarity (basic Levenshtein or exact match)\n",
        "            if words[i] == words[i].lower():  # Example heuristic for a \"spelling error\"\n",
        "                total_spell += 1\n",
        "                if predicted == words[i]:\n",
        "                    correct_spell += 1\n",
        "\n",
        "    grammar_accuracy = correct_grammar / total_grammar if total_grammar else 0\n",
        "    spell_accuracy = correct_spell / total_spell if total_spell else 0\n",
        "    return grammar_accuracy, spell_accuracy\n",
        "\n",
        "# Train the bigram model\n",
        "bigram_model = train_ngram_model(train_data, n=2)\n",
        "\n",
        "# Evaluate the model across 5 runs\n",
        "results = []\n",
        "for run in range(5):\n",
        "    random.seed(run)  # Set random seed for reproducibility\n",
        "    grammar_acc, spell_acc = evaluate_model(bigram_model, test_data)\n",
        "    results.append((run + 1, grammar_acc, spell_acc))\n",
        "\n",
        "# Print results\n",
        "for run, grammar_acc, spell_acc in results:\n",
        "    print(f\"Run {run}: Grammar Accuracy = {grammar_acc * 100:.2f}%\")\n"
      ],
      "metadata": {
        "colab": {
          "base_uri": "https://localhost:8080/"
        },
        "id": "dwbdb7btvagB",
        "outputId": "77daf3c9-4ba8-4588-8927-3d64e8383039"
      },
      "execution_count": 18,
      "outputs": [
        {
          "output_type": "stream",
          "name": "stdout",
          "text": [
            "Drive already mounted at /content/drive; to attempt to forcibly remount, call drive.mount(\"/content/drive\", force_remount=True).\n",
            "Run 1: Grammar Accuracy = 40.90%\n",
            "Run 2: Grammar Accuracy = 40.86%\n",
            "Run 3: Grammar Accuracy = 40.89%\n",
            "Run 4: Grammar Accuracy = 40.77%\n",
            "Run 5: Grammar Accuracy = 40.92%\n"
          ]
        }
      ]
    },
    {
      "cell_type": "markdown",
      "source": [
        "--------------------------------------------------------------------------------\n"
      ],
      "metadata": {
        "id": "nQgRkQLyymK5"
      }
    },
    {
      "cell_type": "markdown",
      "source": [],
      "metadata": {
        "id": "NYCiuIq1y9jF"
      }
    },
    {
      "cell_type": "code",
      "source": [
        "import pandas as pd\n",
        "from difflib import get_close_matches\n",
        "import random\n",
        "\n",
        "# Path to the dataset\n",
        "dataset_path = '/content/drive/My Drive/Colab Notebooks/combined_sentences_dataset.csv'\n",
        "\n",
        "# Load the dataset\n",
        "data = pd.read_csv(dataset_path, header=None, names=[\"Category\", \"Sentence\"])\n",
        "\n",
        "# Step 1: Create the dictionary from binary 1 categorized sentences\n",
        "# Filter correct sentences\n",
        "correct_sentences = data[data['Category'] == 1]['Sentence']\n",
        "\n",
        "# Tokenize words and create a unique dictionary\n",
        "dictionary = set()\n",
        "for sentence in correct_sentences:\n",
        "    words = sentence.split()\n",
        "    dictionary.update(words)\n",
        "dictionary = list(dictionary)  # Convert back to list\n",
        "\n",
        "# Function to correct spelling\n",
        "def correct_spelling(word, dictionary):\n",
        "    matches = get_close_matches(word, dictionary)\n",
        "    return matches[0] if matches else word\n",
        "\n",
        "# Step 2: Evaluate spell checker using the dataset\n",
        "# Simulate a spell-checker dataset with misspelled and correct words (for testing)\n",
        "spell_checker_data = pd.DataFrame({\n",
        "    'misspelled_word': ['මම', 'මම', 'යා', 'අපි'],  # Example misspelled words\n",
        "    'correct_word': ['මම', 'මම', 'යනවා', 'අපි']   # Corresponding correct words\n",
        "})\n",
        "\n",
        "# Run evaluations for five different runs\n",
        "results = []\n",
        "for run in range(5):\n",
        "    correct, total = 0, 0\n",
        "    random.seed(run)  # Set a random seed for reproducibility\n",
        "\n",
        "    # Shuffle the spell-checker dataset to simulate variability\n",
        "    spell_checker_data = spell_checker_data.sample(frac=1).reset_index(drop=True)\n",
        "\n",
        "    # Evaluate the spell checker\n",
        "    for misspelled, correct_word in zip(spell_checker_data['misspelled_word'], spell_checker_data['correct_word']):\n",
        "        if correct_spelling(misspelled, dictionary) == correct_word:\n",
        "            correct += 1\n",
        "        total += 1\n",
        "\n",
        "    # Compute accuracy\n",
        "    accuracy = correct / total * 100 if total > 0 else 0\n",
        "    results.append((run + 1, accuracy))\n",
        "\n",
        "# Print results\n",
        "for run, accuracy in results:\n",
        "    print(f\"Run {run}: Spell Checker Accuracy = {accuracy:.2f}%\")\n"
      ],
      "metadata": {
        "colab": {
          "base_uri": "https://localhost:8080/"
        },
        "id": "-IlRtutg1Ocu",
        "outputId": "6b02290a-34b9-4101-86c5-63571a1944cd"
      },
      "execution_count": 21,
      "outputs": [
        {
          "output_type": "stream",
          "name": "stdout",
          "text": [
            "Run 1: Spell Checker Accuracy = 75.00%\n",
            "Run 2: Spell Checker Accuracy = 75.00%\n",
            "Run 3: Spell Checker Accuracy = 75.00%\n",
            "Run 4: Spell Checker Accuracy = 75.00%\n",
            "Run 5: Spell Checker Accuracy = 75.00%\n"
          ]
        }
      ]
    },
    {
      "cell_type": "markdown",
      "source": [
        "--------------------------------------------------------------------------------\n"
      ],
      "metadata": {
        "id": "wwBm4SU4fj6z"
      }
    },
    {
      "cell_type": "code",
      "source": [
        "# Debug predictions\n",
        "for sentence in test_data[:5]:  # Check predictions for the first 5 test sentences\n",
        "    words = sentence.split()\n",
        "    for i in range(len(words) - 1):\n",
        "        predicted = predict_next_word(bigram_model, words[i])\n",
        "        print(f\"Input: {words[i]}, Expected: {words[i + 1]}, Predicted: {predicted}\")"
      ],
      "metadata": {
        "colab": {
          "base_uri": "https://localhost:8080/"
        },
        "id": "wAVK3tzt1ZtX",
        "outputId": "c3eee565-a9c6-41c6-c605-50066e155998"
      },
      "execution_count": 22,
      "outputs": [
        {
          "output_type": "stream",
          "name": "stdout",
          "text": [
            "Input: මම, Expected: යති, Predicted: නැටුම්\n",
            "Input: මම, Expected: යත්වා, Predicted: ගෙදර\n",
            "Input: මම, Expected: යනවා, Predicted: නැටුම්\n",
            "Input: මම, Expected: යනවාලා, Predicted: ඔහුගෙන්\n",
            "Input: මම, Expected: යනු, Predicted: ගෙදර\n"
          ]
        }
      ]
    },
    {
      "cell_type": "code",
      "source": [
        "print(\"Training Data Sample:\", train_data[:5])\n",
        "print(\"Test Data Sample:\", test_data[:5])\n"
      ],
      "metadata": {
        "colab": {
          "base_uri": "https://localhost:8080/"
        },
        "id": "ivZlkhXy1eEN",
        "outputId": "d4088823-db1c-4d0b-b01f-31e563547a02"
      },
      "execution_count": 23,
      "outputs": [
        {
          "output_type": "stream",
          "name": "stdout",
          "text": [
            "Training Data Sample: ['මම යන්නෙමි', 'මම යන්නෙමිවා', 'මම යමි', 'මම යමිවා', 'මම යවන්නෙමි']\n",
            "Test Data Sample: ['මම යති', 'මම යත්වා', 'මම යනවා', 'මම යනවාලා', 'මම යනු']\n"
          ]
        }
      ]
    },
    {
      "cell_type": "code",
      "source": [
        "# Inspect the bigram model for a specific word\n",
        "word_to_check = \"මම\"  # Replace with a common word in your dataset\n",
        "print(\"Bigram Model for word:\", word_to_check)\n",
        "print(bigram_model[word_to_check])\n"
      ],
      "metadata": {
        "colab": {
          "base_uri": "https://localhost:8080/"
        },
        "id": "eJCQKMbA1icT",
        "outputId": "9e5639f7-3028-49bd-e7bf-b45d144bd7f3"
      },
      "execution_count": 24,
      "outputs": [
        {
          "output_type": "stream",
          "name": "stdout",
          "text": [
            "Bigram Model for word: මම\n",
            "Counter({'නැටුම්': 571, 'ගෙදර': 72, 'පොත': 43, 'බත්': 40, 'වේගයෙන්': 24, 'ඔහුගෙන්': 24, 'ඔහුට': 24, 'එය': 4, 'කතා': 4, 'යන්නෙමි': 3, 'යන්නෙමිවා': 3, 'යමි': 3, 'යමිවා': 3, 'යවන්නෙමි': 3, 'යවමි': 3, 'ගියෙමි': 3, 'යැවෙමි': 3, 'පොතක්': 2, 'මුදල්': 2, 'පිළිකුල්': 2, 'ඔහුව': 2, 'වැරදි': 2, 'ඊයේ': 2, 'පුදුම': 2, 'මේකට': 2, 'මලක්': 1, 'අම්මාට': 1, 'නගරයට': 1, 'පාඩමි': 1, 'අවදි': 1, 'දත්\\u200c': 1, 'මුහුණ': 1, 'පාඩම්\\u200c': 1, 'සැමවිටම': 1, 'යාච්ඤා': 1, 'රිය': 1, 'ආදරය': 1, 'සිනා': 1, 'හරි': 1, 'උදව්': 1, 'යන්නෙ': 1, 'කථා': 1, 'ගන්නේ': 1, 'ආරක්ෂිතව': 1, 'කාඩ්': 1, 'දෙන්න': 1, 'වැනිලා': 1, 'අයිස්': 1, 'කැමති': 1, 'වැඩ': 1, 'කඩේට': 1, 'ආසයි': 1, 'කියවන්න': 1, 'තේ': 1, 'ෆිල්ම්': 1, 'කන්ද': 1})\n"
          ]
        }
      ]
    },
    {
      "cell_type": "code",
      "source": [
        "# Simplified accuracy check\n",
        "correct, total = 0, 0\n",
        "for sentence in test_data[:100]:  # Limit to 100 sentences for debugging\n",
        "    words = sentence.split()\n",
        "    for i in range(len(words) - 1):\n",
        "        predicted = predict_next_word(bigram_model, words[i])\n",
        "        if predicted == words[i + 1]:\n",
        "            correct += 1\n",
        "        total += 1\n",
        "print(f\"Simple Accuracy: {correct / total * 100:.2f}%\")\n"
      ],
      "metadata": {
        "colab": {
          "base_uri": "https://localhost:8080/"
        },
        "id": "DW-VPfM51mtR",
        "outputId": "8f7c9101-a393-4739-c3f1-f24ad814b2df"
      },
      "execution_count": 25,
      "outputs": [
        {
          "output_type": "stream",
          "name": "stdout",
          "text": [
            "Simple Accuracy: 0.00%\n"
          ]
        }
      ]
    },
    {
      "cell_type": "code",
      "source": [
        "print(f\"Training Data Size: {len(train_data)}\")\n",
        "print(f\"Test Data Size: {len(test_data)}\")\n"
      ],
      "metadata": {
        "colab": {
          "base_uri": "https://localhost:8080/"
        },
        "id": "JI4zVYvD1qh6",
        "outputId": "89006dbc-b1c5-42d6-9104-46a9647902f8"
      },
      "execution_count": 26,
      "outputs": [
        {
          "output_type": "stream",
          "name": "stdout",
          "text": [
            "Training Data Size: 3127\n",
            "Test Data Size: 18106\n"
          ]
        }
      ]
    },
    {
      "cell_type": "markdown",
      "source": [
        "------------------------------------------------------------------------------------------------------------------------------------------------------------------------------------------------------------------------------------------------"
      ],
      "metadata": {
        "id": "CinOY8xYUKFk"
      }
    },
    {
      "cell_type": "code",
      "source": [
        "import pandas as pd\n",
        "from collections import defaultdict, Counter\n",
        "from difflib import get_close_matches\n",
        "import random\n",
        "\n",
        "# Mount Google Drive\n",
        "from google.colab import drive\n",
        "drive.mount('/content/drive')\n",
        "\n",
        "# Path to the dataset on Google Drive\n",
        "dataset_path = '/content/drive/My Drive/Colab Notebooks/combined_sentences_dataset.csv'\n",
        "\n",
        "# Load the dataset\n",
        "data = pd.read_csv(dataset_path, header=None, names=[\"Category\", \"Sentence\"])\n",
        "\n",
        "# Filter and process data\n",
        "correct_sentences = data[data['Category'] == 1]['Sentence'].tolist()  # Correct sentences\n",
        "incorrect_sentences = data[data['Category'] == 0]['Sentence'].tolist()  # Incorrect sentences\n",
        "\n",
        "# Create a dictionary from correct sentences (for spell checking)\n",
        "dictionary = set()\n",
        "for sentence in correct_sentences:\n",
        "    words = sentence.split()\n",
        "    dictionary.update(words)\n",
        "dictionary = list(dictionary)\n",
        "\n",
        "# Generate n-grams for grammar checking\n",
        "def generate_ngrams(text, n=2):\n",
        "    words = text.split()\n",
        "    return [tuple(words[i:i + n]) for i in range(len(words) - n + 1)]\n",
        "\n",
        "# Train n-gram model for grammar checking\n",
        "def train_ngram_model(sentences, n=2):\n",
        "    model = defaultdict(Counter)\n",
        "    for sentence in sentences:\n",
        "        ngrams = generate_ngrams(sentence, n)\n",
        "        for w1, w2 in ngrams:\n",
        "            model[w1][w2] += 1\n",
        "    return model\n",
        "\n",
        "# Predict the next word for grammar checking\n",
        "def predict_next_word(model, word):\n",
        "    if word in model:\n",
        "        return random.choices(list(model[word].keys()), weights=model[word].values())[0]\n",
        "    return None\n",
        "\n",
        "# Function to correct spelling\n",
        "def correct_spelling(word, dictionary):\n",
        "    matches = get_close_matches(word, dictionary)\n",
        "    return matches[0] if matches else word\n",
        "\n",
        "# Evaluate grammar checker\n",
        "def evaluate_grammar_model(model, sentences):\n",
        "    correct_grammar, total_grammar = 0, 0\n",
        "    for sentence in sentences:\n",
        "        words = sentence.split()\n",
        "        for i in range(len(words) - 1):\n",
        "            predicted = predict_next_word(model, words[i])\n",
        "            if predicted == words[i + 1]:\n",
        "                correct_grammar += 1\n",
        "            total_grammar += 1\n",
        "    accuracy = correct_grammar / total_grammar if total_grammar else 0\n",
        "    return accuracy\n",
        "\n",
        "# Evaluate spell checker\n",
        "def evaluate_spell_checker(dictionary, test_data):\n",
        "    correct, total = 0, 0\n",
        "    for misspelled, correct_word in test_data:\n",
        "        if correct_spelling(misspelled, dictionary) == correct_word:\n",
        "            correct += 1\n",
        "        total += 1\n",
        "    accuracy = correct / total if total > 0 else 0\n",
        "    return accuracy\n",
        "\n",
        "# Train the bigram model for grammar checking\n",
        "bigram_model = train_ngram_model(correct_sentences, n=2)\n",
        "\n",
        "# Simulate test data for spell checker\n",
        "spell_checker_test_data = [\n",
        "    ('මම', 'මම'),\n",
        "    ('මම', 'මම'),\n",
        "    ('යා', 'යනවා'),\n",
        "    ('අපි', 'අපි')\n",
        "]\n",
        "\n",
        "# Run evaluations for 5 iterations\n",
        "results = []\n",
        "for run in range(5):\n",
        "    random.seed(run)\n",
        "\n",
        "    # Grammar checker accuracy\n",
        "    grammar_accuracy = evaluate_grammar_model(bigram_model, incorrect_sentences)\n",
        "\n",
        "    # Shuffle spell-checker test data for each run\n",
        "    shuffled_spell_test_data = random.sample(spell_checker_test_data, len(spell_checker_test_data))\n",
        "    spell_accuracy = evaluate_spell_checker(dictionary, shuffled_spell_test_data)\n",
        "\n",
        "    results.append((run + 1, grammar_accuracy * 100, spell_accuracy * 100))\n",
        "\n",
        "# Print results\n",
        "for run, grammar_acc, spell_acc in results:\n",
        "    print(f\"Run {run}: Grammar Accuracy = {grammar_acc:.2f}%, Spell Checker Accuracy = {spell_acc:.2f}%\")\n"
      ],
      "metadata": {
        "colab": {
          "base_uri": "https://localhost:8080/"
        },
        "id": "qAvOKqB-UODs",
        "outputId": "3f0df840-ea66-44a3-85c1-3c6ee930f600"
      },
      "execution_count": 30,
      "outputs": [
        {
          "output_type": "stream",
          "name": "stdout",
          "text": [
            "Drive already mounted at /content/drive; to attempt to forcibly remount, call drive.mount(\"/content/drive\", force_remount=True).\n",
            "Run 1: Grammar Accuracy = 40.75%, Spell Checker Accuracy = 75.00%\n",
            "Run 2: Grammar Accuracy = 40.77%, Spell Checker Accuracy = 75.00%\n",
            "Run 3: Grammar Accuracy = 40.89%, Spell Checker Accuracy = 75.00%\n",
            "Run 4: Grammar Accuracy = 40.68%, Spell Checker Accuracy = 75.00%\n",
            "Run 5: Grammar Accuracy = 40.94%, Spell Checker Accuracy = 75.00%\n"
          ]
        }
      ]
    },
    {
      "cell_type": "code",
      "source": [
        "# Function to manually check grammar correction for a sentence\n",
        "def check_grammar(sentence, ngram_model):\n",
        "    words = sentence.split()\n",
        "    corrected_sentence = [words[0]]  # Start with the first word\n",
        "    for i in range(len(words) - 1):\n",
        "        predicted = predict_next_word(ngram_model, corrected_sentence[-1])\n",
        "        if predicted:\n",
        "            corrected_sentence.append(predicted)\n",
        "        else:\n",
        "            corrected_sentence.append(words[i + 1])  # Use the original word if no prediction\n",
        "    return ' '.join(corrected_sentence)\n",
        "\n",
        "# Function to manually check spell correction for a word\n",
        "def check_spelling(word, dictionary):\n",
        "    corrected_word = correct_spelling(word, dictionary)\n",
        "    return corrected_word\n"
      ],
      "metadata": {
        "id": "z6fyCm4sU66d"
      },
      "execution_count": 31,
      "outputs": []
    },
    {
      "cell_type": "code",
      "source": [
        "# Example manual tests\n",
        "while True:\n",
        "    print(\"\\nChoose an option:\")\n",
        "    print(\"1. Check Grammar Correction for a Sentence\")\n",
        "    print(\"2. Check Spell Correction for a Word\")\n",
        "    print(\"3. Exit\")\n",
        "    choice = input(\"Enter your choice (1/2/3): \")\n",
        "\n",
        "    if choice == '1':\n",
        "        input_sentence = input(\"Enter a sentence: \")\n",
        "        corrected = check_grammar(input_sentence, bigram_model)\n",
        "        print(f\"Corrected Sentence: {corrected}\")\n",
        "    elif choice == '2':\n",
        "        input_word = input(\"Enter a word: \")\n",
        "        corrected = check_spelling(input_word, dictionary)\n",
        "        print(f\"Corrected Word: {corrected}\")\n",
        "    elif choice == '3':\n",
        "        print(\"Exiting...\")\n",
        "        break\n",
        "    else:\n",
        "        print(\"Invalid choice. Please try again.\")\n"
      ],
      "metadata": {
        "colab": {
          "base_uri": "https://localhost:8080/"
        },
        "id": "DBOg9ArZU9Ma",
        "outputId": "38c1804a-0c1b-4615-9eea-f868970998f4"
      },
      "execution_count": 33,
      "outputs": [
        {
          "output_type": "stream",
          "name": "stdout",
          "text": [
            "\n",
            "Choose an option:\n",
            "1. Check Grammar Correction for a Sentence\n",
            "2. Check Spell Correction for a Word\n",
            "3. Exit\n",
            "Enter your choice (1/2/3): 1\n",
            "Enter a sentence: මම ය\n",
            "Corrected Sentence: මම නැටුම්\n",
            "\n",
            "Choose an option:\n",
            "1. Check Grammar Correction for a Sentence\n",
            "2. Check Spell Correction for a Word\n",
            "3. Exit\n",
            "Enter your choice (1/2/3): 2\n",
            "Enter a word: යා\n",
            "Corrected Word: ඔයා\n",
            "\n",
            "Choose an option:\n",
            "1. Check Grammar Correction for a Sentence\n",
            "2. Check Spell Correction for a Word\n",
            "3. Exit\n",
            "Enter your choice (1/2/3): 3\n",
            "Exiting...\n"
          ]
        }
      ]
    },
    {
      "cell_type": "code",
      "source": [
        "import pandas as pd\n",
        "from difflib import get_close_matches\n",
        "from collections import defaultdict, Counter\n",
        "import random\n",
        "\n",
        "# Mount Google Drive\n",
        "from google.colab import drive\n",
        "drive.mount('/content/drive')\n",
        "\n",
        "# Path to the dataset on Google Drive\n",
        "dataset_path = '/content/drive/My Drive/Colab Notebooks/combined_sentences_dataset.csv'\n",
        "\n",
        "# Load the dataset\n",
        "dataset = pd.read_csv(dataset_path, header=None, names=[\"Category\", \"Sentence\"])\n",
        "\n",
        "# Filter correct and incorrect sentences\n",
        "correct_sentences = dataset[dataset['Category'] == 1]['Sentence'].tolist()\n",
        "incorrect_sentences = dataset[dataset['Category'] == 0]['Sentence'].tolist()\n",
        "\n",
        "# --- Utility Functions ---\n",
        "\n",
        "# Generate n-grams\n",
        "def generate_ngrams(text, n=2):\n",
        "    words = text.split()\n",
        "    return [tuple(words[i:i + n]) for i in range(len(words) - n + 1)]\n",
        "\n",
        "# Train n-gram model\n",
        "def train_ngram_model(sentences, n=2):\n",
        "    model = defaultdict(Counter)\n",
        "    for sentence in sentences:\n",
        "        ngrams = generate_ngrams(sentence, n)\n",
        "        for w1, w2 in ngrams:\n",
        "            model[w1][w2] += 1\n",
        "    return model\n",
        "\n",
        "# Predict next word\n",
        "def predict_next_word(model, word):\n",
        "    if word in model:\n",
        "        return random.choices(list(model[word].keys()), weights=model[word].values())[0]\n",
        "    return None\n",
        "\n",
        "# Function to find the closest correct sentence\n",
        "def find_closest_correct_sentence(input_sentence, correct_sentences):\n",
        "    matches = get_close_matches(input_sentence, correct_sentences, n=1, cutoff=0.6)\n",
        "    return matches[0] if matches else None\n",
        "\n",
        "# Function to check and correct grammar based on dataset\n",
        "def correct_grammar_with_dataset(input_sentence, dataset):\n",
        "    # Check if the sentence exists in the dataset\n",
        "    if input_sentence in dataset['Sentence'].values:\n",
        "        # Get the category (1 for correct, 0 for incorrect)\n",
        "        category = dataset.loc[dataset['Sentence'] == input_sentence, 'Category'].values[0]\n",
        "        if category == 1:\n",
        "            return input_sentence  # Sentence is already correct\n",
        "        else:\n",
        "            # Find a close correct sentence\n",
        "            closest_sentence = find_closest_correct_sentence(input_sentence, correct_sentences)\n",
        "            return closest_sentence if closest_sentence else \"No close correct sentence found.\"\n",
        "    else:\n",
        "        # Sentence doesn't exist in the dataset; find a close correct sentence\n",
        "        closest_sentence = find_closest_correct_sentence(input_sentence, correct_sentences)\n",
        "        return closest_sentence if closest_sentence else \"No close correct sentence found.\"\n",
        "\n",
        "# Function to correct spelling\n",
        "def correct_spelling(word, dictionary):\n",
        "    matches = get_close_matches(word, dictionary)\n",
        "    return matches[0] if matches else word\n",
        "\n",
        "# --- Train Statistical Model ---\n",
        "\n",
        "# Train the bigram model\n",
        "bigram_model = train_ngram_model(correct_sentences, n=2)\n",
        "\n",
        "# --- Manual Testing Section ---\n",
        "\n",
        "while True:\n",
        "    print(\"\\nChoose an option:\")\n",
        "    print(\"1. Check Grammar Correction for a Sentence\")\n",
        "    print(\"2. Check Spell Correction for a Word\")\n",
        "    print(\"3. Exit\")\n",
        "    choice = input(\"Enter your choice (1/2/3): \")\n",
        "\n",
        "    if choice == '1':\n",
        "        input_sentence = input(\"Enter a sentence: \")\n",
        "        corrected = correct_grammar_with_dataset(input_sentence, dataset)\n",
        "        print(f\"Corrected Sentence: {corrected}\")\n",
        "    elif choice == '2':\n",
        "        input_word = input(\"Enter a word: \")\n",
        "        # Create a dictionary from correct sentences\n",
        "        word_dictionary = set()\n",
        "        for sentence in correct_sentences:\n",
        "            words = sentence.split()\n",
        "            word_dictionary.update(words)\n",
        "        corrected_word = correct_spelling(input_word, list(word_dictionary))\n",
        "        print(f\"Corrected Word: {corrected_word}\")\n",
        "    elif choice == '3':\n",
        "        print(\"Exiting...\")\n",
        "        break\n",
        "    else:\n",
        "        print(\"Invalid choice. Please try again.\")\n"
      ],
      "metadata": {
        "colab": {
          "base_uri": "https://localhost:8080/"
        },
        "id": "vmjDP6kvY6rp",
        "outputId": "8ee45635-f6f0-440a-e17e-a9648942a683"
      },
      "execution_count": 34,
      "outputs": [
        {
          "output_type": "stream",
          "name": "stdout",
          "text": [
            "Drive already mounted at /content/drive; to attempt to forcibly remount, call drive.mount(\"/content/drive\", force_remount=True).\n",
            "\n",
            "Choose an option:\n",
            "1. Check Grammar Correction for a Sentence\n",
            "2. Check Spell Correction for a Word\n",
            "3. Exit\n",
            "Enter your choice (1/2/3): 1\n",
            "Enter a sentence: මම යනවා\n",
            "Corrected Sentence: මම යමිවා\n",
            "\n",
            "Choose an option:\n",
            "1. Check Grammar Correction for a Sentence\n",
            "2. Check Spell Correction for a Word\n",
            "3. Exit\n",
            "Enter your choice (1/2/3): මම ය\n",
            "Invalid choice. Please try again.\n",
            "\n",
            "Choose an option:\n",
            "1. Check Grammar Correction for a Sentence\n",
            "2. Check Spell Correction for a Word\n",
            "3. Exit\n",
            "Enter your choice (1/2/3): 1\n",
            "Enter a sentence: මම ය\n",
            "Corrected Sentence: මම යමි\n",
            "\n",
            "Choose an option:\n",
            "1. Check Grammar Correction for a Sentence\n",
            "2. Check Spell Correction for a Word\n",
            "3. Exit\n",
            "Enter your choice (1/2/3): 1\n",
            "Enter a sentence: අමුතු වාක්‍ය\n",
            "Corrected Sentence: No close correct sentence found.\n",
            "\n",
            "Choose an option:\n",
            "1. Check Grammar Correction for a Sentence\n",
            "2. Check Spell Correction for a Word\n",
            "3. Exit\n",
            "Enter your choice (1/2/3): 2\n",
            "Enter a word: අපි ය\n",
            "Corrected Word: අපි\n",
            "\n",
            "Choose an option:\n",
            "1. Check Grammar Correction for a Sentence\n",
            "2. Check Spell Correction for a Word\n",
            "3. Exit\n",
            "Enter your choice (1/2/3): 1\n",
            "Enter a sentence: අපි ය\n",
            "Corrected Sentence: අපි යමු\n",
            "\n",
            "Choose an option:\n",
            "1. Check Grammar Correction for a Sentence\n",
            "2. Check Spell Correction for a Word\n",
            "3. Exit\n",
            "Enter your choice (1/2/3): 1\n",
            "Enter a sentence: අපි කෑම කන්න.\n",
            "Corrected Sentence: අපි කතා කරනවා\n",
            "\n",
            "Choose an option:\n",
            "1. Check Grammar Correction for a Sentence\n",
            "2. Check Spell Correction for a Word\n",
            "3. Exit\n",
            "Enter your choice (1/2/3): 1\n",
            "Enter a sentence: මම පාසල යන\n",
            "Corrected Sentence: No close correct sentence found.\n",
            "\n",
            "Choose an option:\n",
            "1. Check Grammar Correction for a Sentence\n",
            "2. Check Spell Correction for a Word\n",
            "3. Exit\n",
            "Enter your choice (1/2/3): 1\n",
            "Enter a sentence: ගමට යනව රථය\n",
            "Corrected Sentence: No close correct sentence found.\n",
            "\n",
            "Choose an option:\n",
            "1. Check Grammar Correction for a Sentence\n",
            "2. Check Spell Correction for a Word\n",
            "3. Exit\n",
            "Enter your choice (1/2/3): අපි කෑම කමු.\n",
            "Invalid choice. Please try again.\n",
            "\n",
            "Choose an option:\n",
            "1. Check Grammar Correction for a Sentence\n",
            "2. Check Spell Correction for a Word\n",
            "3. Exit\n",
            "Enter your choice (1/2/3): 1\n",
            "Enter a sentence: අපි කෑම කමු.\n",
            "Corrected Sentence: අපි කතා කරමු\n",
            "\n",
            "Choose an option:\n",
            "1. Check Grammar Correction for a Sentence\n",
            "2. Check Spell Correction for a Word\n",
            "3. Exit\n",
            "Enter your choice (1/2/3): 2\n",
            "Enter a word: පසල\n",
            "Corrected Word: පාසල්\n",
            "\n",
            "Choose an option:\n",
            "1. Check Grammar Correction for a Sentence\n",
            "2. Check Spell Correction for a Word\n",
            "3. Exit\n",
            "Enter your choice (1/2/3): 2\n",
            "Enter a word: යනව\n",
            "Corrected Word: යනවා\n",
            "\n",
            "Choose an option:\n",
            "1. Check Grammar Correction for a Sentence\n",
            "2. Check Spell Correction for a Word\n",
            "3. Exit\n",
            "Enter your choice (1/2/3): 2\n",
            "Enter a word: ගෙඩි\n",
            "Corrected Word: ගෙඩි\n",
            "\n",
            "Choose an option:\n",
            "1. Check Grammar Correction for a Sentence\n",
            "2. Check Spell Correction for a Word\n",
            "3. Exit\n",
            "Enter your choice (1/2/3): 2\n",
            "Enter a word: පොතක්ක්\n",
            "Corrected Word: පොතක්\n",
            "\n",
            "Choose an option:\n",
            "1. Check Grammar Correction for a Sentence\n",
            "2. Check Spell Correction for a Word\n",
            "3. Exit\n",
            "Enter your choice (1/2/3): 2\n",
            "Enter a word: යාළුවෙක්\n",
            "Corrected Word: යාළුවෝ\n",
            "\n",
            "Choose an option:\n",
            "1. Check Grammar Correction for a Sentence\n",
            "2. Check Spell Correction for a Word\n",
            "3. Exit\n",
            "Enter your choice (1/2/3): 1\n",
            "Enter a sentence: මම පාසල යන.\n",
            "Corrected Sentence: No close correct sentence found.\n",
            "\n",
            "Choose an option:\n",
            "1. Check Grammar Correction for a Sentence\n",
            "2. Check Spell Correction for a Word\n",
            "3. Exit\n",
            "Enter your choice (1/2/3): 1\n",
            "Enter a sentence: ඔහු ගෙදර සිටිනවා.\n",
            "Corrected Sentence: නුබ ගෙදර යනවා\n",
            "\n",
            "Choose an option:\n",
            "1. Check Grammar Correction for a Sentence\n",
            "2. Check Spell Correction for a Word\n",
            "3. Exit\n",
            "Enter your choice (1/2/3): 1\n",
            "Enter a sentence: ළමයා බත් කමින් ගෙදර යවහි\n",
            "Corrected Sentence: ළමයා බත් කමින් ගෙදර යවයි\n",
            "\n",
            "Choose an option:\n",
            "1. Check Grammar Correction for a Sentence\n",
            "2. Check Spell Correction for a Word\n",
            "3. Exit\n",
            "Enter your choice (1/2/3): 1\n",
            "Enter a sentence: වාහනය බත් කමින් ගෙදර යන්නෝය\n",
            "Corrected Sentence: වාහනය බත් කමින් ගෙදර යන්නේය\n",
            "\n",
            "Choose an option:\n",
            "1. Check Grammar Correction for a Sentence\n",
            "2. Check Spell Correction for a Word\n",
            "3. Exit\n",
            "Enter your choice (1/2/3): 1\n",
            "Enter a sentence: ඈ බණ අස\n",
            "Corrected Sentence: ඈ බණ අසයි\n",
            "\n",
            "Choose an option:\n",
            "1. Check Grammar Correction for a Sentence\n",
            "2. Check Spell Correction for a Word\n",
            "3. Exit\n",
            "Enter your choice (1/2/3): 1\n",
            "Enter a sentence: අපි වෙමු පුදුම\n",
            "Corrected Sentence: අපි යැවෙමු\n",
            "\n",
            "Choose an option:\n",
            "1. Check Grammar Correction for a Sentence\n",
            "2. Check Spell Correction for a Word\n",
            "3. Exit\n",
            "Enter your choice (1/2/3): 1\n",
            "Enter a sentence: ඔබ සින්දු කිව්වොත් ළමයා වේගයෙන් යවහි\n",
            "Corrected Sentence: ඔබ සින්දු කිව්වොත් ළමයා වේගයෙන් යවයි\n",
            "\n",
            "Choose an option:\n",
            "1. Check Grammar Correction for a Sentence\n",
            "2. Check Spell Correction for a Word\n",
            "3. Exit\n",
            "Enter your choice (1/2/3): 1\n",
            "Enter a sentence: මම යන්නීය\n",
            "Corrected Sentence: ළමයා යන්නීය\n",
            "\n",
            "Choose an option:\n",
            "1. Check Grammar Correction for a Sentence\n",
            "2. Check Spell Correction for a Word\n",
            "3. Exit\n",
            "Enter your choice (1/2/3): 1\n",
            "Enter a sentence: මම යන්නෝය\n",
            "Corrected Sentence: ළමයි යන්නෝය\n",
            "\n",
            "Choose an option:\n",
            "1. Check Grammar Correction for a Sentence\n",
            "2. Check Spell Correction for a Word\n",
            "3. Exit\n",
            "Enter your choice (1/2/3): 1\n",
            "Enter a sentence: අපි යයි\n",
            "Corrected Sentence: අපි යමු\n",
            "\n",
            "Choose an option:\n",
            "1. Check Grammar Correction for a Sentence\n",
            "2. Check Spell Correction for a Word\n",
            "3. Exit\n",
            "Enter your choice (1/2/3): 1\n",
            "Enter a sentence: අපි ගෙදර යති\n",
            "Corrected Sentence: අපි ගෙදර යමු\n",
            "\n",
            "Choose an option:\n",
            "1. Check Grammar Correction for a Sentence\n",
            "2. Check Spell Correction for a Word\n",
            "3. Exit\n",
            "Enter your choice (1/2/3): 1\n",
            "Enter a sentence: සාරා ලිපියක් ලිව්වාය\n",
            "Corrected Sentence: සාරා ලිපියක් ලිව්වාය\n",
            "\n",
            "Choose an option:\n",
            "1. Check Grammar Correction for a Sentence\n",
            "2. Check Spell Correction for a Word\n",
            "3. Exit\n",
            "Enter your choice (1/2/3): 2\n",
            "Enter a word: අරනව\n",
            "Corrected Word: කරනවා\n",
            "\n",
            "Choose an option:\n",
            "1. Check Grammar Correction for a Sentence\n",
            "2. Check Spell Correction for a Word\n",
            "3. Exit\n",
            "Enter your choice (1/2/3): 1\n",
            "Enter a sentence: ඔහු නම කුමක්?\n",
            "Corrected Sentence: ඔබේ නම මොකද්ද?\n",
            "\n",
            "Choose an option:\n",
            "1. Check Grammar Correction for a Sentence\n",
            "2. Check Spell Correction for a Word\n",
            "3. Exit\n",
            "Enter your choice (1/2/3): 1\n",
            "Enter a sentence: මම යන්නෙ ගමට.\n",
            "Corrected Sentence: මම යන්නෙමි\n",
            "\n",
            "Choose an option:\n",
            "1. Check Grammar Correction for a Sentence\n",
            "2. Check Spell Correction for a Word\n",
            "3. Exit\n",
            "Enter your choice (1/2/3): 2\n",
            "Enter a word: ගමටා\n",
            "Corrected Word: මා\n",
            "\n",
            "Choose an option:\n",
            "1. Check Grammar Correction for a Sentence\n",
            "2. Check Spell Correction for a Word\n",
            "3. Exit\n",
            "Enter your choice (1/2/3): 2\n",
            "Enter a word: උදේව\n",
            "Corrected Word: උදේ\n",
            "\n",
            "Choose an option:\n",
            "1. Check Grammar Correction for a Sentence\n",
            "2. Check Spell Correction for a Word\n",
            "3. Exit\n",
            "Enter your choice (1/2/3): 2\n",
            "Enter a word: මූණුපොත\n",
            "Corrected Word: පොත\n",
            "\n",
            "Choose an option:\n",
            "1. Check Grammar Correction for a Sentence\n",
            "2. Check Spell Correction for a Word\n",
            "3. Exit\n",
            "Enter your choice (1/2/3): 2\n",
            "Enter a word: කෝපිය\n",
            "Corrected Word: කෝපි\n",
            "\n",
            "Choose an option:\n",
            "1. Check Grammar Correction for a Sentence\n",
            "2. Check Spell Correction for a Word\n",
            "3. Exit\n",
            "Enter your choice (1/2/3): 2\n",
            "Enter a word: මිතුර\n",
            "Corrected Word: මිතුරිය\n",
            "\n",
            "Choose an option:\n",
            "1. Check Grammar Correction for a Sentence\n",
            "2. Check Spell Correction for a Word\n",
            "3. Exit\n",
            "Enter your choice (1/2/3): 2\n",
            "Enter a word: විබාගයට\n",
            "Corrected Word: විභාගය\n",
            "\n",
            "Choose an option:\n",
            "1. Check Grammar Correction for a Sentence\n",
            "2. Check Spell Correction for a Word\n",
            "3. Exit\n",
            "Enter your choice (1/2/3): 2\n",
            "Enter a word: අහසෙ\n",
            "Corrected Word: අහසෙ\n",
            "\n",
            "Choose an option:\n",
            "1. Check Grammar Correction for a Sentence\n",
            "2. Check Spell Correction for a Word\n",
            "3. Exit\n",
            "Enter your choice (1/2/3): 1\n",
            "Enter a sentence: ඔවුන් පොතට සටහන් ලියති.\n",
            "Corrected Sentence: No close correct sentence found.\n",
            "\n",
            "Choose an option:\n",
            "1. Check Grammar Correction for a Sentence\n",
            "2. Check Spell Correction for a Word\n",
            "3. Exit\n",
            "Enter your choice (1/2/3): 1\n",
            "Enter a sentence: මම ගමන් කරනවා.\n",
            "Corrected Sentence: මම වැඩ කරනවා\n",
            "\n",
            "Choose an option:\n",
            "1. Check Grammar Correction for a Sentence\n",
            "2. Check Spell Correction for a Word\n",
            "3. Exit\n",
            "Enter your choice (1/2/3): 1\n",
            "Enter a sentence: ඔබ කෝපි එකක් පිඹීමට කැමතිද?\n",
            "Corrected Sentence: No close correct sentence found.\n",
            "\n",
            "Choose an option:\n",
            "1. Check Grammar Correction for a Sentence\n",
            "2. Check Spell Correction for a Word\n",
            "3. Exit\n",
            "Enter your choice (1/2/3): 1\n",
            "Enter a sentence: අපි පොද වැසි අතරින් ගමට ගියා.\n",
            "Corrected Sentence: No close correct sentence found.\n",
            "\n",
            "Choose an option:\n",
            "1. Check Grammar Correction for a Sentence\n",
            "2. Check Spell Correction for a Word\n",
            "3. Exit\n",
            "Enter your choice (1/2/3): 1\n",
            "Enter a sentence: අපි මුණගැසෙමු ඉක්මනින්.\n",
            "Corrected Sentence: No close correct sentence found.\n",
            "\n",
            "Choose an option:\n",
            "1. Check Grammar Correction for a Sentence\n",
            "2. Check Spell Correction for a Word\n",
            "3. Exit\n",
            "Enter your choice (1/2/3): 3\n",
            "Exiting...\n"
          ]
        }
      ]
    },
    {
      "cell_type": "markdown",
      "source": [
        "# **Neural Network-Based Approach:**"
      ],
      "metadata": {
        "id": "UzJTgFPZkROM"
      }
    },
    {
      "cell_type": "markdown",
      "source": [
        "--------------------------------------------------------------------------------\n",
        "--------------------------------------------------------------------------------"
      ],
      "metadata": {
        "id": "k_TiOOJJkaCG"
      }
    },
    {
      "cell_type": "code",
      "source": [
        "import pandas as pd\n",
        "from sklearn.feature_extraction.text import CountVectorizer\n",
        "from sklearn.model_selection import train_test_split\n",
        "from sklearn.neural_network import MLPClassifier\n",
        "from sklearn.metrics import accuracy_score\n",
        "from difflib import get_close_matches\n",
        "import random\n",
        "\n",
        "# Mount Google Drive\n",
        "from google.colab import drive\n",
        "drive.mount('/content/drive')\n",
        "\n",
        "# Path to the dataset on Google Drive\n",
        "dataset_path = '/content/drive/My Drive/Colab Notebooks/combined_sentences_dataset.csv'\n",
        "\n",
        "# Load the dataset\n",
        "data = pd.read_csv(dataset_path, header=None, names=[\"Category\", \"Sentence\"])\n",
        "\n",
        "# Separate data into correct and incorrect categories\n",
        "correct_sentences = data[data['Category'] == 1]['Sentence'].tolist()  # Correct sentences\n",
        "incorrect_sentences = data[data['Category'] == 0]['Sentence'].tolist()  # Incorrect sentences\n",
        "all_sentences = data['Sentence'].tolist()\n",
        "labels = data['Category'].tolist()\n"
      ],
      "metadata": {
        "colab": {
          "base_uri": "https://localhost:8080/"
        },
        "id": "XYk4YvqZkZcI",
        "outputId": "bbad2238-1965-4278-9d1c-a348e8beef0a"
      },
      "execution_count": 35,
      "outputs": [
        {
          "output_type": "stream",
          "name": "stdout",
          "text": [
            "Drive already mounted at /content/drive; to attempt to forcibly remount, call drive.mount(\"/content/drive\", force_remount=True).\n"
          ]
        }
      ]
    },
    {
      "cell_type": "code",
      "source": [
        "# Preprocessing: Convert sentences into bag-of-words features\n",
        "vectorizer = CountVectorizer()\n",
        "X = vectorizer.fit_transform(all_sentences)  # Feature matrix\n",
        "y = labels  # Labels (1 for correct, 0 for incorrect)\n",
        "\n",
        "# Split the dataset into training and testing sets\n",
        "X_train, X_test, y_train, y_test = train_test_split(X, y, test_size=0.2, random_state=42)\n",
        "\n",
        "# Train a Neural Network (Multi-Layer Perceptron) for grammar correction\n",
        "grammar_model = MLPClassifier(hidden_layer_sizes=(100,), max_iter=500, random_state=42)\n",
        "grammar_model.fit(X_train, y_train)\n",
        "\n",
        "# Evaluate the model on the test set\n",
        "y_pred = grammar_model.predict(X_test)\n",
        "grammar_accuracy = accuracy_score(y_test, y_pred)\n",
        "print(f\"Grammar Correction Model Accuracy: {grammar_accuracy * 100:.2f}%\")\n"
      ],
      "metadata": {
        "colab": {
          "base_uri": "https://localhost:8080/"
        },
        "id": "y5WhY1jzkob5",
        "outputId": "eebf92d6-c4cf-4cf4-c07e-0c59ffef5c26"
      },
      "execution_count": 36,
      "outputs": [
        {
          "output_type": "stream",
          "name": "stdout",
          "text": [
            "Grammar Correction Model Accuracy: 79.54%\n"
          ]
        }
      ]
    },
    {
      "cell_type": "code",
      "source": [
        "# Create a dictionary from correct sentences\n",
        "dictionary = set()\n",
        "for sentence in correct_sentences:\n",
        "    words = sentence.split()\n",
        "    dictionary.update(words)\n",
        "dictionary = list(dictionary)\n",
        "\n",
        "# Function to correct spelling using get_close_matches\n",
        "def correct_spelling_nn(word, dictionary):\n",
        "    matches = get_close_matches(word, dictionary)\n",
        "    return matches[0] if matches else word\n",
        "\n",
        "# Evaluate spell checker\n",
        "spell_checker_test_data = [\n",
        "    ('මම', 'මම'),\n",
        "    ('මග', 'මම'),\n",
        "    ('යා', 'යනවා'),\n",
        "    ('අපි', 'අපි'),\n",
        "]\n",
        "\n",
        "correct_spell, total_spell = 0, 0\n",
        "for misspelled, correct_word in spell_checker_test_data:\n",
        "    if correct_spelling_nn(misspelled, dictionary) == correct_word:\n",
        "        correct_spell += 1\n",
        "    total_spell += 1\n",
        "spell_accuracy = correct_spell / total_spell if total_spell > 0 else 0\n",
        "print(f\"Spell Checker Accuracy: {spell_accuracy * 100:.2f}%\")\n"
      ],
      "metadata": {
        "colab": {
          "base_uri": "https://localhost:8080/"
        },
        "id": "VTzbWi-Tkziy",
        "outputId": "f38e4a69-9f0e-4cbe-f58e-91086606f2a0"
      },
      "execution_count": 37,
      "outputs": [
        {
          "output_type": "stream",
          "name": "stdout",
          "text": [
            "Spell Checker Accuracy: 50.00%\n"
          ]
        }
      ]
    },
    {
      "cell_type": "code",
      "source": [
        "def basic_grammar_check(text):\n",
        "    \"\"\"\n",
        "    Perform a basic grammar check on the given text.\n",
        "    This function checks for repeated words, missing punctuation, and basic sentence structure issues.\n",
        "    \"\"\"\n",
        "    grammar_issues = []\n",
        "    words = tokenize(preprocess_text(text))\n",
        "\n",
        "    # Check for repeated words\n",
        "    for i in range(len(words) - 1):\n",
        "        if words[i] == words[i + 1]:\n",
        "            grammar_issues.append(f\"Repeated word: '{words[i]}' at position {i + 1}\")\n",
        "\n",
        "    # Check if text ends with proper punctuation\n",
        "    if not re.search(r'[.!?]$', text.strip()):\n",
        "        grammar_issues.append(\"The text does not end with proper punctuation (e.g., '.', '!', '?').\")\n",
        "\n",
        "    # Additional grammar checks (example: subject-verb-object pattern)\n",
        "    if len(words) < 3:\n",
        "        grammar_issues.append(\"The text is too short to form a valid sentence.\")\n",
        "    elif len(words) > 3 and words[0] not in dictionary:\n",
        "        grammar_issues.append(f\"The first word '{words[0]}' is not in the dictionary, which might indicate a grammar issue.\")\n",
        "\n",
        "    return grammar_issues\n",
        "\n",
        "def auto_correct_grammar(text):\n",
        "    \"\"\"\n",
        "    Automatically correct basic grammar mistakes in the input text.\n",
        "    This function fixes repeated words, ensures proper punctuation, and attempts to restructure sentences if needed.\n",
        "    \"\"\"\n",
        "    words = tokenize(preprocess_text(text))\n",
        "    corrected_words = []\n",
        "\n",
        "    # Remove repeated words\n",
        "    for i in range(len(words)):\n",
        "        if i == 0 or words[i] != words[i - 1]:\n",
        "            corrected_words.append(words[i])\n",
        "\n",
        "    corrected_text = ' '.join(corrected_words)\n",
        "\n",
        "    # Add proper punctuation if missing\n",
        "    if not re.search(r'[.!?]$', corrected_text.strip()):\n",
        "        corrected_text += '.'\n",
        "\n",
        "    return corrected_text\n"
      ],
      "metadata": {
        "id": "zNJSGR4qn43x"
      },
      "execution_count": 53,
      "outputs": []
    },
    {
      "cell_type": "code",
      "source": [
        "# Function to predict whether a sentence is correct or incorrect\n",
        "def check_grammar_nn(sentence, model, vectorizer):\n",
        "    X = vectorizer.transform([sentence])\n",
        "    prediction = model.predict(X)\n",
        "    if prediction[0] == 1:\n",
        "        return f\"The sentence is correct: {sentence}\"\n",
        "    else:\n",
        "        # Find closest correct sentence if incorrect\n",
        "        matches = get_close_matches(sentence, correct_sentences)\n",
        "        return f\"The sentence is incorrect. Did you mean: {matches[0]}\" if matches else \"No suggestions available.\"\n",
        "\n",
        "# Manual Test: Grammar Correction\n",
        "input_sentence = input(\"Enter a sentence for grammar correction: \")\n",
        "result = check_grammar_nn(input_sentence, grammar_model, vectorizer)\n",
        "print(result)\n"
      ],
      "metadata": {
        "colab": {
          "base_uri": "https://localhost:8080/"
        },
        "id": "kVLhii16k37t",
        "outputId": "f968d61f-df8e-4202-8d9c-d5880b9e734b"
      },
      "execution_count": 64,
      "outputs": [
        {
          "output_type": "stream",
          "name": "stdout",
          "text": [
            "Enter a sentence for grammar correction: අපි යයි\\\n",
            "The sentence is incorrect. Did you mean: අපි යමු\n"
          ]
        }
      ]
    },
    {
      "cell_type": "code",
      "source": [
        "# Manual Test: Spell Correction\n",
        "input_word = input(\"Enter a word for spell correction: \")\n",
        "corrected_word = correct_spelling_nn(input_word, dictionary)\n",
        "print(f\"Corrected Word: {corrected_word}\")\n"
      ],
      "metadata": {
        "colab": {
          "base_uri": "https://localhost:8080/"
        },
        "id": "PpwjR-Djlkbr",
        "outputId": "31447bf9-964a-41ee-c7c2-0f765e7cf78b"
      },
      "execution_count": 65,
      "outputs": [
        {
          "output_type": "stream",
          "name": "stdout",
          "text": [
            "Enter a word for spell correction: අරනව\n",
            "Corrected Word: කරනවා\n"
          ]
        }
      ]
    },
    {
      "cell_type": "code",
      "source": [
        "results = []\n",
        "for run in range(5):\n",
        "    random.seed(run)\n",
        "\n",
        "    # Grammar accuracy for the current run\n",
        "    y_pred_run = grammar_model.predict(X_test)\n",
        "    grammar_accuracy_run = accuracy_score(y_test, y_pred_run)\n",
        "\n",
        "    # Spell accuracy for the current run (shuffling the test data)\n",
        "    shuffled_spell_test_data = random.sample(spell_checker_test_data, len(spell_checker_test_data))\n",
        "    correct_spell_run, total_spell_run = 0, 0\n",
        "    for misspelled, correct_word in shuffled_spell_test_data:\n",
        "        if correct_spelling_nn(misspelled, dictionary) == correct_word:\n",
        "            correct_spell_run += 1\n",
        "        total_spell_run += 1\n",
        "    spell_accuracy_run = correct_spell_run / total_spell_run if total_spell_run > 0 else 0\n",
        "\n",
        "    # Store results\n",
        "    results.append((run + 1, grammar_accuracy_run * 100, spell_accuracy_run * 100))\n",
        "\n",
        "# Print results for all runs\n",
        "for run, grammar_acc, spell_acc in results:\n",
        "    print(f\"Run {run}: Grammar Accuracy = {grammar_acc:.2f}%, Spell Checker Accuracy = {spell_acc:.2f}%\")\n"
      ],
      "metadata": {
        "colab": {
          "base_uri": "https://localhost:8080/"
        },
        "id": "-22j43KVlrHo",
        "outputId": "157296d8-97fd-4c8f-a00d-dd1e60272a29"
      },
      "execution_count": 42,
      "outputs": [
        {
          "output_type": "stream",
          "name": "stdout",
          "text": [
            "Run 1: Grammar Accuracy = 79.54%, Spell Checker Accuracy = 50.00%\n",
            "Run 2: Grammar Accuracy = 79.54%, Spell Checker Accuracy = 50.00%\n",
            "Run 3: Grammar Accuracy = 79.54%, Spell Checker Accuracy = 50.00%\n",
            "Run 4: Grammar Accuracy = 79.54%, Spell Checker Accuracy = 50.00%\n",
            "Run 5: Grammar Accuracy = 79.54%, Spell Checker Accuracy = 50.00%\n"
          ]
        }
      ]
    },
    {
      "cell_type": "code",
      "source": [],
      "metadata": {
        "id": "rfWV1eFJlqR0"
      },
      "execution_count": null,
      "outputs": []
    }
  ]
}